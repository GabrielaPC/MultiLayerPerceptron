{
 "cells": [
  {
   "cell_type": "markdown",
   "metadata": {},
   "source": [
    "# Car Evaluation Dataset"
   ]
  },
  {
   "cell_type": "code",
   "execution_count": 1,
   "metadata": {},
   "outputs": [],
   "source": [
    "# !pip install ucimlrepo"
   ]
  },
  {
   "cell_type": "code",
   "execution_count": 2,
   "metadata": {},
   "outputs": [],
   "source": [
    "import tensorflow as tf\n",
    "from tensorflow.keras.utils import to_categorical\n",
    "from tensorflow.keras.layers import Flatten, Dense\n",
    "\n",
    "import pandas as pd\n",
    "\n",
    "from sklearn.model_selection import train_test_split\n",
    "from sklearn.metrics import accuracy_score, precision_score, recall_score, f1_score\n",
    "from sklearn.preprocessing import LabelEncoder\n",
    "\n",
    "from ucimlrepo import fetch_ucirepo "
   ]
  },
  {
   "cell_type": "markdown",
   "metadata": {},
   "source": [
    "### Importando o dataset"
   ]
  },
  {
   "cell_type": "code",
   "execution_count": 3,
   "metadata": {},
   "outputs": [
    {
     "name": "stderr",
     "output_type": "stream",
     "text": [
      "C:\\Users\\AMD RYZEN\\AppData\\Local\\Temp\\ipykernel_15276\\464027119.py:11: SettingWithCopyWarning: \n",
      "A value is trying to be set on a copy of a slice from a DataFrame\n",
      "\n",
      "See the caveats in the documentation: https://pandas.pydata.org/pandas-docs/stable/user_guide/indexing.html#returning-a-view-versus-a-copy\n",
      "  Y.loc[Y['class']==labels[i], 'class'] = i\n"
     ]
    }
   ],
   "source": [
    "# fetch dataset \n",
    "car_evaluation = fetch_ucirepo(id=19) \n",
    "  \n",
    "# data (as pandas dataframes) \n",
    "X = car_evaluation.data.features \n",
    "Y = car_evaluation.data.targets \n",
    "\n",
    "# Transform labels to int\n",
    "labels = Y[\"class\"].unique()\n",
    "for i in range(len(labels)):\n",
    "  Y.loc[Y['class']==labels[i], 'class'] = i\n"
   ]
  },
  {
   "cell_type": "markdown",
   "metadata": {},
   "source": [
    "### One-hot Encoding das features"
   ]
  },
  {
   "cell_type": "code",
   "execution_count": 4,
   "metadata": {},
   "outputs": [],
   "source": [
    "X = pd.get_dummies(X, dtype=int)"
   ]
  },
  {
   "cell_type": "markdown",
   "metadata": {},
   "source": [
    "### Dividindo os conjuntos de teste e treino"
   ]
  },
  {
   "cell_type": "code",
   "execution_count": 5,
   "metadata": {},
   "outputs": [],
   "source": [
    "x_train, x_test, y_train, y_test = train_test_split(X, Y,test_size= 0.7, random_state = 28)"
   ]
  },
  {
   "cell_type": "markdown",
   "metadata": {},
   "source": [
    "### One-Hot Enconding dos Targets"
   ]
  },
  {
   "cell_type": "code",
   "execution_count": 6,
   "metadata": {},
   "outputs": [],
   "source": [
    "y_train = to_categorical(y_train) \n",
    "y_true = list(y_test['class'])\n",
    "y_test = to_categorical(y_test) "
   ]
  },
  {
   "cell_type": "code",
   "execution_count": 7,
   "metadata": {},
   "outputs": [
    {
     "name": "stdout",
     "output_type": "stream",
     "text": [
      "[0. 0. 0. 1.]\n"
     ]
    }
   ],
   "source": [
    "print(y_train[0])"
   ]
  },
  {
   "cell_type": "markdown",
   "metadata": {},
   "source": [
    "### Perceptron"
   ]
  },
  {
   "cell_type": "code",
   "execution_count": 8,
   "metadata": {},
   "outputs": [],
   "source": [
    "model = tf.keras.Sequential([\n",
    "    Flatten(input_shape=(len(X.columns), )),\n",
    "    Dense(128, activation='relu'),\n",
    "    Dense(64, activation='relu'),\n",
    "    Dense(len(y_train[0]), activation='softmax')\n",
    "])"
   ]
  },
  {
   "cell_type": "code",
   "execution_count": 9,
   "metadata": {},
   "outputs": [
    {
     "name": "stdout",
     "output_type": "stream",
     "text": [
      "Model: \"sequential\"\n",
      "_________________________________________________________________\n",
      " Layer (type)                Output Shape              Param #   \n",
      "=================================================================\n",
      " flatten (Flatten)           (None, 21)                0         \n",
      "                                                                 \n",
      " dense (Dense)               (None, 128)               2816      \n",
      "                                                                 \n",
      " dense_1 (Dense)             (None, 64)                8256      \n",
      "                                                                 \n",
      " dense_2 (Dense)             (None, 4)                 260       \n",
      "                                                                 \n",
      "=================================================================\n",
      "Total params: 11332 (44.27 KB)\n",
      "Trainable params: 11332 (44.27 KB)\n",
      "Non-trainable params: 0 (0.00 Byte)\n",
      "_________________________________________________________________\n"
     ]
    }
   ],
   "source": [
    "model.compile(\n",
    "  loss='categorical_crossentropy', \n",
    "  optimizer='sgd', \n",
    "  metrics=['Accuracy', 'Precision', 'Recall', 'F1Score']\n",
    ")\n",
    "model.summary()"
   ]
  },
  {
   "cell_type": "markdown",
   "metadata": {},
   "source": [
    "### Treinamento"
   ]
  },
  {
   "cell_type": "code",
   "execution_count": 10,
   "metadata": {},
   "outputs": [
    {
     "name": "stdout",
     "output_type": "stream",
     "text": [
      "Epoch 1/100\n",
      "17/17 [==============================] - 1s 1ms/step - loss: 1.3120 - Accuracy: 0.4170 - precision: 0.0000e+00 - recall: 0.0000e+00 - f1_score: 0.2043\n",
      "Epoch 2/100\n",
      "17/17 [==============================] - 0s 1ms/step - loss: 1.1554 - Accuracy: 0.6834 - precision: 1.0000 - recall: 0.0019 - f1_score: 0.2030    \n",
      "Epoch 3/100\n",
      "17/17 [==============================] - 0s 1ms/step - loss: 1.0407 - Accuracy: 0.6931 - precision: 0.8364 - recall: 0.0888 - f1_score: 0.2047\n",
      "Epoch 4/100\n",
      "17/17 [==============================] - 0s 1ms/step - loss: 0.9626 - Accuracy: 0.6931 - precision: 0.7333 - recall: 0.4247 - f1_score: 0.2047\n",
      "Epoch 5/100\n",
      "17/17 [==============================] - 0s 1ms/step - loss: 0.9118 - Accuracy: 0.6931 - precision: 0.7067 - recall: 0.6699 - f1_score: 0.2047\n",
      "Epoch 6/100\n",
      "17/17 [==============================] - 0s 1ms/step - loss: 0.8744 - Accuracy: 0.6931 - precision: 0.6944 - recall: 0.6931 - f1_score: 0.2047\n",
      "Epoch 7/100\n",
      "17/17 [==============================] - 0s 1ms/step - loss: 0.8494 - Accuracy: 0.6931 - precision: 0.6931 - recall: 0.6931 - f1_score: 0.2047\n",
      "Epoch 8/100\n",
      "17/17 [==============================] - 0s 1ms/step - loss: 0.8303 - Accuracy: 0.6931 - precision: 0.6931 - recall: 0.6931 - f1_score: 0.2047\n",
      "Epoch 9/100\n",
      "17/17 [==============================] - 0s 1ms/step - loss: 0.8133 - Accuracy: 0.6931 - precision: 0.6931 - recall: 0.6931 - f1_score: 0.2047\n",
      "Epoch 10/100\n",
      "17/17 [==============================] - 0s 1ms/step - loss: 0.7985 - Accuracy: 0.6931 - precision: 0.6931 - recall: 0.6931 - f1_score: 0.2047\n",
      "Epoch 11/100\n",
      "17/17 [==============================] - 0s 1ms/step - loss: 0.7851 - Accuracy: 0.6931 - precision: 0.6931 - recall: 0.6931 - f1_score: 0.2047\n",
      "Epoch 12/100\n",
      "17/17 [==============================] - 0s 1ms/step - loss: 0.7714 - Accuracy: 0.6931 - precision: 0.6931 - recall: 0.6931 - f1_score: 0.2047\n",
      "Epoch 13/100\n",
      "17/17 [==============================] - 0s 1ms/step - loss: 0.7580 - Accuracy: 0.6931 - precision: 0.6957 - recall: 0.6931 - f1_score: 0.2047\n",
      "Epoch 14/100\n",
      "17/17 [==============================] - 0s 1ms/step - loss: 0.7446 - Accuracy: 0.6931 - precision: 0.6984 - recall: 0.6931 - f1_score: 0.2047\n",
      "Epoch 15/100\n",
      "17/17 [==============================] - 0s 1ms/step - loss: 0.7312 - Accuracy: 0.6931 - precision: 0.7025 - recall: 0.6931 - f1_score: 0.2047\n",
      "Epoch 16/100\n",
      "17/17 [==============================] - 0s 1ms/step - loss: 0.7182 - Accuracy: 0.6931 - precision: 0.7053 - recall: 0.6931 - f1_score: 0.2047\n",
      "Epoch 17/100\n",
      "17/17 [==============================] - 0s 1ms/step - loss: 0.7057 - Accuracy: 0.6931 - precision: 0.7137 - recall: 0.6931 - f1_score: 0.2047\n",
      "Epoch 18/100\n",
      "17/17 [==============================] - 0s 1ms/step - loss: 0.6930 - Accuracy: 0.6931 - precision: 0.7180 - recall: 0.6931 - f1_score: 0.2047\n",
      "Epoch 19/100\n",
      "17/17 [==============================] - 0s 1ms/step - loss: 0.6796 - Accuracy: 0.6931 - precision: 0.7312 - recall: 0.6931 - f1_score: 0.2049\n",
      "Epoch 20/100\n",
      "17/17 [==============================] - 0s 1ms/step - loss: 0.6660 - Accuracy: 0.6969 - precision: 0.7433 - recall: 0.6931 - f1_score: 0.2143\n",
      "Epoch 21/100\n",
      "17/17 [==============================] - 0s 1ms/step - loss: 0.6526 - Accuracy: 0.6969 - precision: 0.7542 - recall: 0.6931 - f1_score: 0.2145\n",
      "Epoch 22/100\n",
      "17/17 [==============================] - 0s 1ms/step - loss: 0.6394 - Accuracy: 0.7027 - precision: 0.7838 - recall: 0.6931 - f1_score: 0.2274\n",
      "Epoch 23/100\n",
      "17/17 [==============================] - 0s 1ms/step - loss: 0.6261 - Accuracy: 0.7046 - precision: 0.7960 - recall: 0.6931 - f1_score: 0.2315\n",
      "Epoch 24/100\n",
      "17/17 [==============================] - 0s 1ms/step - loss: 0.6131 - Accuracy: 0.7066 - precision: 0.8013 - recall: 0.6931 - f1_score: 0.2356\n",
      "Epoch 25/100\n",
      "17/17 [==============================] - 0s 1ms/step - loss: 0.6000 - Accuracy: 0.7104 - precision: 0.8094 - recall: 0.6969 - f1_score: 0.2433\n",
      "Epoch 26/100\n",
      "17/17 [==============================] - 0s 1ms/step - loss: 0.5867 - Accuracy: 0.7201 - precision: 0.8280 - recall: 0.6969 - f1_score: 0.2605\n",
      "Epoch 27/100\n",
      "17/17 [==============================] - 0s 1ms/step - loss: 0.5732 - Accuracy: 0.7220 - precision: 0.8411 - recall: 0.6950 - f1_score: 0.2637\n",
      "Epoch 28/100\n",
      "17/17 [==============================] - 0s 1ms/step - loss: 0.5601 - Accuracy: 0.7375 - precision: 0.8474 - recall: 0.6969 - f1_score: 0.2881\n",
      "Epoch 29/100\n",
      "17/17 [==============================] - 0s 1ms/step - loss: 0.5485 - Accuracy: 0.7432 - precision: 0.8538 - recall: 0.6988 - f1_score: 0.2959\n",
      "Epoch 30/100\n",
      "17/17 [==============================] - 0s 1ms/step - loss: 0.5362 - Accuracy: 0.7645 - precision: 0.8585 - recall: 0.7027 - f1_score: 0.3247\n",
      "Epoch 31/100\n",
      "17/17 [==============================] - 0s 1ms/step - loss: 0.5241 - Accuracy: 0.7761 - precision: 0.8859 - recall: 0.7046 - f1_score: 0.3379\n",
      "Epoch 32/100\n",
      "17/17 [==============================] - 0s 1ms/step - loss: 0.5131 - Accuracy: 0.7780 - precision: 0.8838 - recall: 0.7046 - f1_score: 0.3398\n",
      "Epoch 33/100\n",
      "17/17 [==============================] - 0s 1ms/step - loss: 0.5017 - Accuracy: 0.7896 - precision: 0.8981 - recall: 0.7143 - f1_score: 0.3539\n",
      "Epoch 34/100\n",
      "17/17 [==============================] - 0s 1ms/step - loss: 0.4912 - Accuracy: 0.7954 - precision: 0.9036 - recall: 0.7239 - f1_score: 0.3602\n",
      "Epoch 35/100\n",
      "17/17 [==============================] - 0s 1ms/step - loss: 0.4807 - Accuracy: 0.7992 - precision: 0.9014 - recall: 0.7239 - f1_score: 0.3633\n",
      "Epoch 36/100\n",
      "17/17 [==============================] - 0s 1ms/step - loss: 0.4709 - Accuracy: 0.8069 - precision: 0.9023 - recall: 0.7490 - f1_score: 0.3711\n",
      "Epoch 37/100\n",
      "17/17 [==============================] - 0s 1ms/step - loss: 0.4618 - Accuracy: 0.8089 - precision: 0.9063 - recall: 0.7471 - f1_score: 0.3730\n",
      "Epoch 38/100\n",
      "17/17 [==============================] - 0s 1ms/step - loss: 0.4528 - Accuracy: 0.8166 - precision: 0.9118 - recall: 0.7587 - f1_score: 0.3805\n",
      "Epoch 39/100\n",
      "17/17 [==============================] - 0s 1ms/step - loss: 0.4442 - Accuracy: 0.8224 - precision: 0.9149 - recall: 0.7683 - f1_score: 0.3860\n",
      "Epoch 40/100\n",
      "17/17 [==============================] - 0s 1ms/step - loss: 0.4360 - Accuracy: 0.8436 - precision: 0.9114 - recall: 0.7741 - f1_score: 0.4060\n",
      "Epoch 41/100\n",
      "17/17 [==============================] - 0s 1ms/step - loss: 0.4284 - Accuracy: 0.8436 - precision: 0.9132 - recall: 0.7722 - f1_score: 0.4056\n",
      "Epoch 42/100\n",
      "17/17 [==============================] - 0s 1ms/step - loss: 0.4209 - Accuracy: 0.8456 - precision: 0.9118 - recall: 0.7780 - f1_score: 0.4073\n",
      "Epoch 43/100\n",
      "17/17 [==============================] - 0s 1ms/step - loss: 0.4141 - Accuracy: 0.8456 - precision: 0.9148 - recall: 0.7876 - f1_score: 0.4073\n",
      "Epoch 44/100\n",
      "17/17 [==============================] - 0s 1ms/step - loss: 0.4068 - Accuracy: 0.8533 - precision: 0.9170 - recall: 0.7896 - f1_score: 0.4144\n",
      "Epoch 45/100\n",
      "17/17 [==============================] - 0s 1ms/step - loss: 0.4006 - Accuracy: 0.8514 - precision: 0.9210 - recall: 0.7876 - f1_score: 0.4122\n",
      "Epoch 46/100\n",
      "17/17 [==============================] - 0s 1ms/step - loss: 0.3944 - Accuracy: 0.8591 - precision: 0.9255 - recall: 0.7915 - f1_score: 0.4192\n",
      "Epoch 47/100\n",
      "17/17 [==============================] - 0s 1ms/step - loss: 0.3885 - Accuracy: 0.8629 - precision: 0.9198 - recall: 0.7973 - f1_score: 0.4229\n",
      "Epoch 48/100\n",
      "17/17 [==============================] - 0s 2ms/step - loss: 0.3829 - Accuracy: 0.8629 - precision: 0.9163 - recall: 0.8031 - f1_score: 0.4229\n",
      "Epoch 49/100\n",
      "17/17 [==============================] - 0s 1ms/step - loss: 0.3775 - Accuracy: 0.8629 - precision: 0.9205 - recall: 0.8050 - f1_score: 0.4393\n",
      "Epoch 50/100\n",
      "17/17 [==============================] - 0s 1ms/step - loss: 0.3727 - Accuracy: 0.8668 - precision: 0.9167 - recall: 0.8069 - f1_score: 0.4260\n",
      "Epoch 51/100\n",
      "17/17 [==============================] - 0s 1ms/step - loss: 0.3675 - Accuracy: 0.8707 - precision: 0.9159 - recall: 0.8205 - f1_score: 0.4460\n",
      "Epoch 52/100\n",
      "17/17 [==============================] - 0s 1ms/step - loss: 0.3629 - Accuracy: 0.8649 - precision: 0.9174 - recall: 0.8147 - f1_score: 0.4409\n",
      "Epoch 53/100\n",
      "17/17 [==============================] - 0s 1ms/step - loss: 0.3584 - Accuracy: 0.8745 - precision: 0.9147 - recall: 0.8282 - f1_score: 0.4490\n",
      "Epoch 54/100\n",
      "17/17 [==============================] - 0s 1ms/step - loss: 0.3543 - Accuracy: 0.8745 - precision: 0.9120 - recall: 0.8205 - f1_score: 0.4490\n",
      "Epoch 55/100\n",
      "17/17 [==============================] - 0s 1ms/step - loss: 0.3500 - Accuracy: 0.8726 - precision: 0.9224 - recall: 0.8263 - f1_score: 0.4466\n",
      "Epoch 56/100\n",
      "17/17 [==============================] - 0s 1ms/step - loss: 0.3462 - Accuracy: 0.8861 - precision: 0.9168 - recall: 0.8301 - f1_score: 0.4579\n",
      "Epoch 57/100\n",
      "17/17 [==============================] - 0s 1ms/step - loss: 0.3422 - Accuracy: 0.8784 - precision: 0.9186 - recall: 0.8282 - f1_score: 0.4520\n",
      "Epoch 58/100\n",
      "17/17 [==============================] - 0s 1ms/step - loss: 0.3382 - Accuracy: 0.8822 - precision: 0.9208 - recall: 0.8301 - f1_score: 0.4550\n",
      "Epoch 59/100\n",
      "17/17 [==============================] - 0s 1ms/step - loss: 0.3342 - Accuracy: 0.8822 - precision: 0.9195 - recall: 0.8378 - f1_score: 0.4550\n",
      "Epoch 60/100\n",
      "17/17 [==============================] - 0s 1ms/step - loss: 0.3313 - Accuracy: 0.8764 - precision: 0.9214 - recall: 0.8378 - f1_score: 0.4501\n",
      "Epoch 61/100\n",
      "17/17 [==============================] - 0s 1ms/step - loss: 0.3274 - Accuracy: 0.8764 - precision: 0.9292 - recall: 0.8359 - f1_score: 0.4503\n",
      "Epoch 62/100\n",
      "17/17 [==============================] - 0s 1ms/step - loss: 0.3244 - Accuracy: 0.8822 - precision: 0.9254 - recall: 0.8378 - f1_score: 0.4548\n",
      "Epoch 63/100\n",
      "17/17 [==============================] - 0s 1ms/step - loss: 0.3214 - Accuracy: 0.8745 - precision: 0.9277 - recall: 0.8417 - f1_score: 0.4488\n",
      "Epoch 64/100\n",
      "17/17 [==============================] - 0s 1ms/step - loss: 0.3179 - Accuracy: 0.8803 - precision: 0.9277 - recall: 0.8417 - f1_score: 0.4678\n",
      "Epoch 65/100\n",
      "17/17 [==============================] - 0s 1ms/step - loss: 0.3151 - Accuracy: 0.8842 - precision: 0.9296 - recall: 0.8417 - f1_score: 0.4708\n",
      "Epoch 66/100\n",
      "17/17 [==============================] - 0s 1ms/step - loss: 0.3115 - Accuracy: 0.8842 - precision: 0.9200 - recall: 0.8436 - f1_score: 0.4562\n",
      "Epoch 67/100\n",
      "17/17 [==============================] - 0s 1ms/step - loss: 0.3088 - Accuracy: 0.8822 - precision: 0.9203 - recall: 0.8475 - f1_score: 0.4701\n",
      "Epoch 68/100\n",
      "17/17 [==============================] - 0s 1ms/step - loss: 0.3056 - Accuracy: 0.8919 - precision: 0.9242 - recall: 0.8475 - f1_score: 0.5147\n",
      "Epoch 69/100\n",
      "17/17 [==============================] - 0s 1ms/step - loss: 0.3026 - Accuracy: 0.8861 - precision: 0.9268 - recall: 0.8552 - f1_score: 0.4861\n",
      "Epoch 70/100\n",
      "17/17 [==============================] - 0s 1ms/step - loss: 0.3002 - Accuracy: 0.8900 - precision: 0.9304 - recall: 0.8514 - f1_score: 0.5132\n",
      "Epoch 71/100\n",
      "17/17 [==============================] - 0s 1ms/step - loss: 0.2970 - Accuracy: 0.8919 - precision: 0.9262 - recall: 0.8475 - f1_score: 0.5147\n",
      "Epoch 72/100\n",
      "17/17 [==============================] - 0s 1ms/step - loss: 0.2942 - Accuracy: 0.8938 - precision: 0.9266 - recall: 0.8533 - f1_score: 0.5277\n",
      "Epoch 73/100\n",
      "17/17 [==============================] - 0s 1ms/step - loss: 0.2918 - Accuracy: 0.8938 - precision: 0.9304 - recall: 0.8514 - f1_score: 0.5273\n",
      "Epoch 74/100\n",
      "17/17 [==============================] - 0s 1ms/step - loss: 0.2891 - Accuracy: 0.9015 - precision: 0.9366 - recall: 0.8552 - f1_score: 0.5724\n",
      "Epoch 75/100\n",
      "17/17 [==============================] - 0s 1ms/step - loss: 0.2868 - Accuracy: 0.9015 - precision: 0.9384 - recall: 0.8533 - f1_score: 0.5698\n",
      "Epoch 76/100\n",
      "17/17 [==============================] - 0s 1ms/step - loss: 0.2843 - Accuracy: 0.9015 - precision: 0.9364 - recall: 0.8533 - f1_score: 0.5758\n",
      "Epoch 77/100\n",
      "17/17 [==============================] - 0s 1ms/step - loss: 0.2815 - Accuracy: 0.9035 - precision: 0.9326 - recall: 0.8552 - f1_score: 0.5820\n",
      "Epoch 78/100\n",
      "17/17 [==============================] - 0s 1ms/step - loss: 0.2793 - Accuracy: 0.9015 - precision: 0.9307 - recall: 0.8552 - f1_score: 0.5784\n",
      "Epoch 79/100\n",
      "17/17 [==============================] - 0s 1ms/step - loss: 0.2769 - Accuracy: 0.9054 - precision: 0.9328 - recall: 0.8571 - f1_score: 0.5788\n",
      "Epoch 80/100\n",
      "17/17 [==============================] - 0s 1ms/step - loss: 0.2743 - Accuracy: 0.9035 - precision: 0.9428 - recall: 0.8591 - f1_score: 0.5851\n",
      "Epoch 81/100\n",
      "17/17 [==============================] - 0s 1ms/step - loss: 0.2721 - Accuracy: 0.9015 - precision: 0.9367 - recall: 0.8571 - f1_score: 0.5762\n",
      "Epoch 82/100\n",
      "17/17 [==============================] - 0s 1ms/step - loss: 0.2698 - Accuracy: 0.9054 - precision: 0.9392 - recall: 0.8649 - f1_score: 0.5866\n",
      "Epoch 83/100\n",
      "17/17 [==============================] - 0s 1ms/step - loss: 0.2675 - Accuracy: 0.9035 - precision: 0.9370 - recall: 0.8610 - f1_score: 0.5773\n",
      "Epoch 84/100\n",
      "17/17 [==============================] - 0s 1ms/step - loss: 0.2652 - Accuracy: 0.9054 - precision: 0.9392 - recall: 0.8649 - f1_score: 0.5869\n",
      "Epoch 85/100\n",
      "17/17 [==============================] - 0s 1ms/step - loss: 0.2629 - Accuracy: 0.9073 - precision: 0.9375 - recall: 0.8687 - f1_score: 0.5881\n",
      "Epoch 86/100\n",
      "17/17 [==============================] - 0s 1ms/step - loss: 0.2608 - Accuracy: 0.9015 - precision: 0.9371 - recall: 0.8629 - f1_score: 0.5846\n",
      "Epoch 87/100\n",
      "17/17 [==============================] - 0s 1ms/step - loss: 0.2590 - Accuracy: 0.9112 - precision: 0.9374 - recall: 0.8668 - f1_score: 0.6055\n",
      "Epoch 88/100\n",
      "17/17 [==============================] - 0s 1ms/step - loss: 0.2566 - Accuracy: 0.9073 - precision: 0.9374 - recall: 0.8668 - f1_score: 0.5881\n",
      "Epoch 89/100\n",
      "17/17 [==============================] - 0s 1ms/step - loss: 0.2547 - Accuracy: 0.9054 - precision: 0.9395 - recall: 0.8687 - f1_score: 0.5946\n",
      "Epoch 90/100\n",
      "17/17 [==============================] - 0s 1ms/step - loss: 0.2526 - Accuracy: 0.9112 - precision: 0.9458 - recall: 0.8764 - f1_score: 0.6031\n",
      "Epoch 91/100\n",
      "17/17 [==============================] - 0s 1ms/step - loss: 0.2503 - Accuracy: 0.9112 - precision: 0.9456 - recall: 0.8726 - f1_score: 0.6031\n",
      "Epoch 92/100\n",
      "17/17 [==============================] - 0s 1ms/step - loss: 0.2483 - Accuracy: 0.9112 - precision: 0.9455 - recall: 0.8707 - f1_score: 0.6031\n",
      "Epoch 93/100\n",
      "17/17 [==============================] - 0s 1ms/step - loss: 0.2464 - Accuracy: 0.9112 - precision: 0.9459 - recall: 0.8784 - f1_score: 0.6008\n",
      "Epoch 94/100\n",
      "17/17 [==============================] - 0s 1ms/step - loss: 0.2443 - Accuracy: 0.9112 - precision: 0.9441 - recall: 0.8803 - f1_score: 0.6008\n",
      "Epoch 95/100\n",
      "17/17 [==============================] - 0s 1ms/step - loss: 0.2422 - Accuracy: 0.9131 - precision: 0.9441 - recall: 0.8803 - f1_score: 0.6282\n",
      "Epoch 96/100\n",
      "17/17 [==============================] - 0s 1ms/step - loss: 0.2402 - Accuracy: 0.9189 - precision: 0.9522 - recall: 0.8842 - f1_score: 0.6430\n",
      "Epoch 97/100\n",
      "17/17 [==============================] - 0s 1ms/step - loss: 0.2387 - Accuracy: 0.9170 - precision: 0.9544 - recall: 0.8880 - f1_score: 0.6332\n",
      "Epoch 98/100\n",
      "17/17 [==============================] - 0s 1ms/step - loss: 0.2363 - Accuracy: 0.9151 - precision: 0.9563 - recall: 0.8880 - f1_score: 0.6559\n",
      "Epoch 99/100\n",
      "17/17 [==============================] - 0s 1ms/step - loss: 0.2344 - Accuracy: 0.9170 - precision: 0.9543 - recall: 0.8861 - f1_score: 0.6598\n",
      "Epoch 100/100\n",
      "17/17 [==============================] - 0s 1ms/step - loss: 0.2325 - Accuracy: 0.9208 - precision: 0.9545 - recall: 0.8900 - f1_score: 0.6770\n",
      "38/38 - 0s - loss: 0.2717 - Accuracy: 0.8917 - precision: 0.9251 - recall: 0.8579 - f1_score: 0.5644 - 263ms/epoch - 7ms/step\n"
     ]
    },
    {
     "data": {
      "text/plain": [
       "[0.27170583605766296,\n",
       " 0.8917355537414551,\n",
       " 0.9251337051391602,\n",
       " 0.8578512668609619,\n",
       " array([0.96816033, 0.8033614 , 0.04166666, 0.44444442], dtype=float32)]"
      ]
     },
     "execution_count": 10,
     "metadata": {},
     "output_type": "execute_result"
    }
   ],
   "source": [
    "model.fit(x_train, y_train, epochs=100, batch_size=32, verbose=1)\n",
    "model.evaluate(x_test,  y_test, verbose=2)"
   ]
  },
  {
   "cell_type": "code",
   "execution_count": 11,
   "metadata": {},
   "outputs": [
    {
     "name": "stdout",
     "output_type": "stream",
     "text": [
      "38/38 [==============================] - 0s 622us/step\n",
      "[1, 0, 0, 1, 1, 3, 0, 0, 0, 0, 0, 0, 1, 0, 3, 0, 0, 0, 3, 0, 0, 1, 0, 1, 0, 1, 0, 0, 0, 1, 0, 0, 0, 0, 0, 0, 0, 0, 0, 1, 0, 1, 0, 0, 0, 0, 0, 0, 0, 0, 0, 1, 1, 0, 0, 0, 0, 0, 0, 1, 0, 1, 1, 1, 0, 0, 0, 0, 1, 0, 0, 1, 0, 0, 0, 0, 0, 0, 0, 0, 0, 0, 0, 0, 0, 1, 1, 0, 0, 0, 3, 0, 1, 0, 0, 0, 0, 0, 0, 0, 0, 0, 1, 1, 0, 1, 0, 0, 0, 0, 0, 0, 0, 0, 1, 0, 0, 0, 0, 0, 1, 0, 3, 1, 0, 0, 1, 0, 0, 1, 1, 0, 0, 0, 0, 1, 0, 1, 1, 0, 0, 0, 0, 0, 0, 0, 0, 0, 0, 0, 0, 1, 3, 3, 0, 0, 0, 0, 0, 0, 0, 0, 1, 0, 0, 1, 0, 1, 0, 0, 1, 1, 0, 0, 0, 0, 1, 0, 0, 1, 0, 0, 1, 1, 0, 0, 1, 0, 1, 0, 0, 0, 0, 1, 0, 1, 0, 0, 0, 0, 0, 0, 0, 0, 0, 0, 1, 0, 0, 1, 0, 0, 1, 0, 3, 3, 0, 0, 0, 0, 0, 0, 1, 3, 0, 0, 0, 0, 1, 0, 0, 0, 0, 0, 1, 1, 1, 0, 0, 0, 0, 0, 0, 0, 1, 1, 0, 0, 1, 0, 0, 3, 1, 0, 0, 0, 0, 0, 0, 0, 0, 0, 0, 0, 0, 0, 0, 0, 1, 0, 0, 0, 1, 0, 0, 0, 0, 0, 0, 0, 0, 0, 0, 1, 0, 0, 0, 1, 0, 0, 0, 0, 0, 0, 3, 0, 0, 0, 1, 1, 1, 0, 0, 0, 0, 0, 1, 1, 0, 0, 1, 0, 1, 0, 0, 0, 1, 0, 0, 0, 0, 0, 0, 0, 1, 1, 0, 1, 1, 1, 0, 0, 0, 0, 0, 0, 0, 0, 0, 0, 0, 0, 0, 0, 1, 1, 1, 0, 0, 0, 1, 0, 0, 0, 0, 1, 0, 0, 0, 0, 1, 0, 0, 0, 1, 0, 0, 0, 0, 1, 0, 1, 0, 0, 0, 0, 1, 1, 0, 0, 1, 0, 0, 0, 1, 0, 0, 1, 3, 0, 0, 0, 0, 1, 1, 1, 1, 1, 0, 1, 1, 3, 0, 0, 1, 0, 0, 0, 0, 0, 0, 0, 0, 0, 0, 0, 0, 0, 0, 1, 0, 0, 0, 1, 1, 1, 1, 0, 0, 1, 0, 0, 1, 1, 0, 1, 3, 0, 1, 0, 0, 0, 0, 0, 0, 0, 0, 0, 0, 0, 0, 0, 0, 1, 0, 0, 0, 0, 0, 0, 0, 0, 0, 1, 0, 0, 0, 1, 1, 1, 0, 0, 0, 0, 0, 0, 1, 0, 1, 1, 0, 0, 0, 1, 0, 0, 0, 1, 0, 0, 0, 0, 3, 0, 0, 1, 1, 0, 1, 0, 1, 1, 3, 0, 0, 1, 1, 0, 0, 0, 0, 3, 1, 0, 0, 1, 0, 1, 0, 1, 0, 0, 1, 1, 0, 0, 0, 0, 0, 0, 0, 1, 0, 1, 0, 1, 1, 0, 1, 0, 0, 0, 0, 3, 0, 0, 0, 0, 0, 0, 0, 0, 0, 0, 0, 1, 1, 0, 0, 0, 0, 1, 0, 0, 0, 0, 0, 1, 1, 0, 1, 0, 1, 0, 0, 0, 1, 1, 0, 0, 1, 0, 0, 0, 0, 0, 0, 1, 0, 0, 0, 0, 0, 0, 0, 0, 0, 0, 0, 0, 0, 0, 1, 0, 0, 1, 0, 1, 0, 1, 1, 1, 0, 0, 0, 1, 1, 0, 1, 0, 0, 1, 0, 0, 0, 0, 0, 1, 0, 0, 0, 3, 0, 0, 0, 0, 1, 0, 1, 0, 0, 0, 0, 0, 0, 1, 1, 0, 0, 0, 3, 0, 1, 0, 0, 1, 0, 0, 0, 0, 0, 1, 1, 0, 1, 0, 0, 0, 0, 0, 0, 0, 0, 0, 0, 0, 0, 1, 0, 0, 1, 1, 0, 0, 0, 0, 1, 0, 0, 0, 0, 0, 3, 1, 1, 1, 0, 3, 0, 0, 1, 3, 0, 0, 1, 0, 1, 0, 0, 3, 0, 1, 0, 1, 1, 0, 0, 1, 1, 0, 1, 0, 0, 0, 1, 0, 1, 0, 0, 1, 0, 0, 0, 0, 0, 0, 1, 0, 0, 0, 0, 0, 3, 0, 0, 0, 0, 0, 1, 0, 1, 1, 3, 0, 0, 0, 3, 0, 0, 0, 0, 0, 0, 0, 1, 1, 1, 1, 0, 0, 0, 0, 0, 1, 1, 1, 0, 0, 0, 1, 0, 0, 1, 0, 1, 0, 0, 0, 0, 0, 1, 0, 0, 0, 1, 1, 0, 1, 0, 0, 0, 0, 0, 0, 0, 0, 0, 1, 0, 0, 0, 0, 0, 0, 1, 0, 1, 0, 0, 0, 0, 0, 1, 1, 1, 1, 0, 0, 1, 0, 0, 0, 3, 0, 0, 0, 1, 0, 0, 0, 0, 1, 0, 0, 0, 0, 0, 0, 0, 0, 0, 0, 1, 1, 0, 1, 1, 0, 0, 0, 0, 0, 1, 0, 1, 0, 0, 0, 0, 1, 0, 0, 0, 0, 0, 0, 0, 0, 0, 0, 0, 0, 0, 0, 0, 0, 3, 0, 0, 0, 0, 0, 1, 1, 1, 0, 0, 1, 0, 0, 1, 0, 0, 0, 0, 0, 1, 0, 0, 1, 1, 1, 1, 1, 0, 1, 1, 3, 0, 0, 0, 0, 0, 0, 1, 1, 0, 1, 0, 0, 1, 0, 1, 0, 1, 0, 0, 0, 3, 1, 0, 0, 0, 0, 0, 1, 0, 0, 1, 0, 0, 1, 0, 0, 0, 1, 1, 1, 0, 0, 0, 0, 3, 1, 1, 0, 0, 1, 1, 0, 0, 0, 0, 0, 0, 1, 0, 1, 1, 0, 2, 0, 0, 0, 1, 0, 0, 1, 0, 3, 0, 1, 0, 0, 0, 0, 0, 0, 0, 0, 0, 0, 0, 0, 1, 1, 0, 0, 1, 1, 0, 0, 0, 0, 1, 0, 0, 3, 0, 0, 0, 0, 1, 0, 1, 0, 1, 0, 1, 0, 0, 0, 0, 1, 0, 0, 0, 0, 0, 1, 1, 1, 1, 0, 3, 1, 1, 1, 1, 0, 0, 0, 1, 0, 1, 0, 1, 1, 1, 0, 1, 0, 0, 0, 1, 1, 1, 1, 0, 1, 0, 0, 0, 1, 0, 0, 0, 0, 1, 1, 1, 0, 0, 0, 0, 0, 0, 1, 0, 1, 1, 0, 1, 1, 0, 1, 0, 1, 0, 0, 0, 1, 1, 0, 1, 0, 0, 0, 0, 1, 0, 0, 1, 1, 1, 0, 1, 0, 0, 0, 0, 0, 1, 0, 0, 1, 1, 0, 0, 0, 0, 0, 0, 0, 0, 1, 0, 0, 0, 1, 1, 0, 0, 0, 1, 0, 0, 0, 0, 0, 0, 0, 0, 1, 0, 0, 0, 0, 3, 0, 0, 0, 1, 3, 1, 0, 0, 0, 0, 0, 0, 0, 0, 0, 1, 1, 0, 0, 0, 0, 3, 0, 0, 0, 1, 1, 0, 0, 0, 0, 1, 0, 0, 0, 0, 1, 1, 0, 0, 3, 0, 0, 1, 0, 0, 0, 1, 0, 0, 0]\n",
      "[0, 0, 0, 1, 3, 1, 0, 0, 0, 0, 0, 0, 1, 0, 3, 0, 0, 0, 1, 1, 0, 1, 0, 0, 0, 3, 0, 0, 0, 0, 0, 0, 0, 0, 0, 0, 0, 0, 0, 1, 0, 2, 0, 0, 0, 0, 0, 0, 0, 0, 0, 1, 1, 0, 0, 0, 0, 0, 0, 1, 0, 1, 1, 2, 0, 0, 0, 0, 3, 0, 0, 1, 0, 0, 0, 0, 0, 0, 0, 0, 0, 0, 0, 1, 0, 1, 1, 0, 0, 0, 2, 0, 1, 0, 0, 0, 0, 0, 0, 0, 0, 0, 1, 1, 0, 1, 0, 0, 0, 0, 0, 0, 0, 0, 1, 0, 0, 0, 0, 0, 1, 0, 2, 3, 0, 0, 1, 0, 0, 2, 1, 0, 0, 0, 0, 1, 0, 2, 1, 0, 0, 0, 0, 0, 0, 0, 0, 0, 0, 0, 0, 1, 3, 2, 0, 0, 0, 0, 0, 0, 0, 0, 1, 0, 0, 1, 0, 1, 0, 0, 1, 1, 0, 0, 0, 0, 1, 1, 0, 1, 0, 0, 1, 1, 0, 0, 1, 0, 1, 0, 0, 0, 0, 0, 0, 0, 0, 0, 0, 0, 0, 0, 0, 0, 0, 0, 2, 0, 0, 1, 0, 0, 2, 0, 3, 2, 0, 0, 0, 0, 0, 0, 1, 3, 0, 0, 0, 0, 1, 0, 0, 0, 1, 0, 0, 1, 2, 0, 0, 0, 0, 0, 0, 0, 1, 0, 0, 0, 1, 0, 0, 2, 2, 0, 0, 0, 0, 0, 0, 0, 0, 1, 0, 0, 0, 0, 0, 1, 1, 0, 0, 0, 1, 0, 0, 0, 0, 0, 0, 0, 0, 0, 0, 1, 0, 0, 0, 1, 0, 0, 0, 0, 0, 0, 2, 0, 0, 0, 2, 1, 1, 0, 0, 0, 0, 0, 0, 1, 0, 0, 3, 0, 2, 0, 0, 0, 0, 0, 0, 0, 0, 0, 0, 0, 1, 3, 0, 2, 0, 1, 0, 0, 0, 0, 0, 0, 0, 0, 0, 0, 0, 0, 0, 0, 3, 1, 1, 0, 0, 0, 1, 0, 0, 0, 0, 1, 0, 0, 0, 0, 1, 0, 0, 0, 3, 0, 0, 0, 0, 1, 0, 1, 0, 0, 0, 0, 1, 1, 0, 0, 1, 0, 0, 0, 1, 0, 0, 1, 3, 0, 0, 0, 0, 1, 2, 3, 2, 1, 0, 1, 0, 3, 0, 0, 1, 0, 0, 0, 0, 0, 0, 0, 0, 0, 0, 0, 0, 0, 0, 1, 0, 0, 0, 3, 1, 1, 1, 0, 0, 0, 0, 0, 0, 1, 0, 1, 1, 0, 0, 0, 0, 0, 0, 0, 0, 0, 0, 0, 0, 0, 0, 1, 0, 1, 0, 0, 1, 0, 0, 0, 0, 0, 0, 0, 0, 0, 0, 1, 1, 1, 0, 0, 0, 0, 0, 0, 3, 0, 0, 1, 0, 0, 0, 1, 0, 0, 1, 1, 0, 1, 0, 0, 3, 0, 0, 1, 1, 0, 1, 0, 2, 1, 3, 0, 0, 3, 1, 0, 0, 0, 0, 2, 1, 0, 0, 1, 0, 1, 1, 1, 0, 0, 1, 1, 0, 0, 0, 0, 0, 0, 0, 1, 0, 1, 0, 3, 1, 0, 1, 0, 0, 0, 0, 1, 0, 0, 0, 0, 0, 0, 0, 0, 0, 0, 0, 1, 1, 0, 0, 1, 0, 0, 0, 0, 0, 0, 0, 1, 1, 0, 1, 0, 0, 0, 0, 0, 1, 1, 0, 0, 1, 0, 0, 0, 0, 0, 0, 1, 1, 0, 0, 0, 0, 0, 0, 0, 0, 0, 0, 0, 0, 0, 1, 0, 0, 1, 0, 1, 0, 1, 1, 1, 0, 0, 0, 1, 1, 0, 1, 0, 0, 1, 0, 0, 0, 0, 0, 0, 0, 0, 0, 2, 0, 0, 0, 0, 1, 0, 2, 0, 0, 0, 0, 0, 0, 1, 2, 0, 0, 0, 2, 0, 1, 0, 0, 1, 0, 0, 0, 0, 0, 1, 2, 0, 1, 0, 0, 0, 0, 0, 0, 0, 0, 0, 0, 0, 0, 1, 0, 0, 1, 1, 0, 0, 1, 0, 1, 0, 0, 0, 0, 0, 3, 1, 1, 3, 0, 2, 0, 0, 2, 3, 0, 0, 1, 0, 1, 0, 0, 3, 0, 1, 0, 1, 1, 0, 0, 1, 3, 0, 1, 0, 0, 0, 1, 0, 1, 0, 0, 0, 0, 0, 0, 0, 0, 0, 1, 0, 0, 0, 0, 0, 1, 0, 0, 0, 0, 0, 1, 0, 3, 1, 2, 0, 0, 0, 3, 0, 0, 0, 0, 0, 0, 0, 1, 2, 1, 1, 0, 0, 0, 0, 0, 1, 1, 1, 0, 0, 0, 1, 0, 0, 1, 0, 1, 0, 0, 0, 0, 0, 0, 0, 0, 0, 1, 1, 0, 1, 0, 0, 0, 0, 0, 0, 0, 0, 0, 1, 0, 0, 0, 0, 1, 0, 1, 0, 1, 0, 0, 0, 0, 0, 1, 0, 1, 2, 0, 0, 2, 0, 0, 0, 3, 0, 0, 0, 3, 0, 0, 0, 0, 2, 0, 0, 0, 0, 0, 0, 0, 0, 0, 0, 1, 1, 0, 0, 1, 1, 0, 0, 0, 0, 1, 0, 1, 0, 0, 0, 0, 1, 0, 0, 0, 0, 0, 0, 0, 0, 0, 1, 0, 0, 0, 0, 0, 0, 2, 0, 0, 0, 0, 0, 1, 2, 1, 0, 0, 1, 0, 0, 1, 0, 0, 0, 0, 0, 3, 0, 0, 1, 1, 2, 1, 1, 0, 1, 1, 1, 0, 0, 0, 0, 0, 0, 1, 1, 0, 1, 0, 0, 1, 0, 1, 0, 1, 0, 0, 0, 3, 1, 0, 0, 0, 0, 0, 1, 0, 1, 3, 0, 0, 1, 0, 0, 0, 1, 1, 1, 0, 0, 0, 0, 3, 0, 1, 0, 0, 1, 0, 0, 0, 0, 0, 0, 0, 3, 0, 1, 1, 0, 2, 0, 0, 0, 2, 0, 0, 1, 0, 2, 0, 1, 0, 0, 1, 0, 0, 0, 0, 0, 0, 0, 0, 0, 2, 1, 0, 0, 1, 1, 0, 0, 0, 0, 1, 0, 0, 3, 0, 0, 1, 0, 1, 0, 0, 0, 2, 0, 1, 0, 0, 0, 0, 0, 0, 0, 0, 0, 0, 1, 1, 1, 1, 0, 2, 1, 1, 3, 1, 0, 0, 0, 1, 0, 1, 0, 1, 1, 1, 0, 0, 0, 0, 0, 1, 1, 3, 1, 0, 1, 0, 0, 0, 0, 1, 0, 0, 0, 1, 1, 1, 0, 0, 0, 0, 0, 0, 1, 0, 3, 1, 0, 2, 1, 0, 1, 0, 1, 0, 0, 0, 1, 1, 0, 1, 0, 0, 0, 0, 1, 0, 0, 0, 1, 1, 0, 2, 0, 0, 0, 0, 0, 1, 0, 0, 1, 1, 0, 0, 0, 0, 0, 0, 0, 0, 1, 0, 0, 0, 1, 1, 1, 0, 0, 1, 0, 0, 0, 0, 0, 0, 0, 0, 1, 0, 0, 0, 0, 1, 0, 0, 0, 1, 3, 1, 0, 0, 0, 0, 0, 0, 0, 0, 0, 1, 2, 0, 0, 1, 0, 3, 0, 0, 0, 1, 1, 0, 0, 0, 0, 2, 0, 0, 0, 0, 2, 1, 0, 0, 1, 0, 1, 1, 0, 0, 0, 1, 0, 0, 0]\n",
      "Acurácia obtida: 89.17%\n",
      "Precisão obtida: 90.26%\n",
      "Recall obtido: 89.17%\n",
      "F1 Score obtida: 87.75%\n"
     ]
    }
   ],
   "source": [
    "predictions = model.predict(x_test)\n",
    "predictions = [list(p).index(max(p)) for p in predictions]\n",
    "# print(predictions)\n",
    "# print(y_true)\n",
    "\n",
    "print(f'Acurácia obtida: {accuracy_score(y_true, predictions) * 100:.2f}%')\n",
    "print(f'Precisão obtida: {precision_score(y_true, predictions, average=\"weighted\") * 100:.2f}%')\n",
    "print(f'Recall obtido: {recall_score(y_true, predictions, average=\"weighted\") * 100:.2f}%')\n",
    "print(f'F1 Score obtida: {f1_score(y_true, predictions, average=\"weighted\") * 100:.2f}%')\n"
   ]
  }
 ],
 "metadata": {
  "kernelspec": {
   "display_name": "Python 3",
   "language": "python",
   "name": "python3"
  },
  "language_info": {
   "codemirror_mode": {
    "name": "ipython",
    "version": 3
   },
   "file_extension": ".py",
   "mimetype": "text/x-python",
   "name": "python",
   "nbconvert_exporter": "python",
   "pygments_lexer": "ipython3",
   "version": "3.11.5"
  }
 },
 "nbformat": 4,
 "nbformat_minor": 2
}
