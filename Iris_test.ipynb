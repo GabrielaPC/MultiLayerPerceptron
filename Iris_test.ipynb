{
 "cells": [
  {
   "cell_type": "markdown",
   "metadata": {},
   "source": [
    "# Testes iniciais utilizando um dataset mais simples: o Iris"
   ]
  },
  {
   "cell_type": "code",
   "execution_count": 21,
   "metadata": {},
   "outputs": [],
   "source": [
    "import tensorflow as tf\n",
    "from tensorflow.keras.utils import to_categorical\n",
    "from tensorflow.keras.layers import Flatten, Dense\n",
    "\n",
    "import pandas as pd\n",
    "\n",
    "from sklearn.model_selection import train_test_split\n",
    "from sklearn.metrics import accuracy_score, precision_score, recall_score, f1_score"
   ]
  },
  {
   "cell_type": "code",
   "execution_count": 22,
   "metadata": {},
   "outputs": [],
   "source": [
    "url = \"datasets/iris.csv\"\n",
    "names = ['sepal-length', 'sepal-width', 'petal-length', 'petal-width', 'class']\n",
    "labels = ['Iris-setosa', 'Iris-versicolor', 'Iris-virginica']\n",
    "dataset = pd.read_csv(url, names=names)\n",
    "\n",
    "for i in range(len(labels)):\n",
    "  dataset.loc[dataset['class']==labels[i], 'class'] = i"
   ]
  },
  {
   "cell_type": "markdown",
   "metadata": {},
   "source": [
    "### Dividindo os conjuntos de teste e treino"
   ]
  },
  {
   "cell_type": "code",
   "execution_count": 23,
   "metadata": {},
   "outputs": [],
   "source": [
    "X = dataset.drop('class',axis=1).values\n",
    "Y = dataset['class'].values"
   ]
  },
  {
   "cell_type": "code",
   "execution_count": 24,
   "metadata": {},
   "outputs": [],
   "source": [
    "x_train, x_test, y_train, y_test = train_test_split(X, Y,test_size= 0.7, random_state = 28)"
   ]
  },
  {
   "cell_type": "markdown",
   "metadata": {},
   "source": [
    "### One-Hot Enconding"
   ]
  },
  {
   "cell_type": "code",
   "execution_count": 25,
   "metadata": {},
   "outputs": [],
   "source": [
    "y_train = to_categorical(y_train) \n",
    "y_true = list(y_test)\n",
    "y_test = to_categorical(y_test) "
   ]
  },
  {
   "cell_type": "markdown",
   "metadata": {},
   "source": [
    "### Perceptron"
   ]
  },
  {
   "cell_type": "code",
   "execution_count": 26,
   "metadata": {},
   "outputs": [],
   "source": [
    "model = tf.keras.Sequential([\n",
    "    Flatten(input_shape=(4, )),\n",
    "    Dense(128, activation='relu'),\n",
    "    Dense(64, activation='relu'),\n",
    "    Dense(3, activation='softmax')\n",
    "])"
   ]
  },
  {
   "cell_type": "code",
   "execution_count": 32,
   "metadata": {},
   "outputs": [
    {
     "name": "stdout",
     "output_type": "stream",
     "text": [
      "Model: \"sequential_1\"\n",
      "_________________________________________________________________\n",
      " Layer (type)                Output Shape              Param #   \n",
      "=================================================================\n",
      " flatten_1 (Flatten)         (None, 4)                 0         \n",
      "                                                                 \n",
      " dense_3 (Dense)             (None, 128)               640       \n",
      "                                                                 \n",
      " dense_4 (Dense)             (None, 64)                8256      \n",
      "                                                                 \n",
      " dense_5 (Dense)             (None, 3)                 195       \n",
      "                                                                 \n",
      "=================================================================\n",
      "Total params: 9091 (35.51 KB)\n",
      "Trainable params: 9091 (35.51 KB)\n",
      "Non-trainable params: 0 (0.00 Byte)\n",
      "_________________________________________________________________\n"
     ]
    }
   ],
   "source": [
    "model.compile(\n",
    "  loss='categorical_crossentropy', \n",
    "  optimizer='sgd', \n",
    "  metrics=['Accuracy', 'Precision', 'Recall', 'F1Score']\n",
    ")\n",
    "model.summary()"
   ]
  },
  {
   "cell_type": "markdown",
   "metadata": {},
   "source": [
    "### Treinamento"
   ]
  },
  {
   "cell_type": "code",
   "execution_count": 33,
   "metadata": {},
   "outputs": [
    {
     "name": "stdout",
     "output_type": "stream",
     "text": [
      "Epoch 1/100\n",
      "2/2 [==============================] - 1s 6ms/step - loss: 0.0908 - Accuracy: 1.0000 - precision: 1.0000 - recall: 0.9778 - f1_score: 1.0000\n",
      "Epoch 2/100\n",
      "2/2 [==============================] - 0s 5ms/step - loss: 0.0927 - Accuracy: 1.0000 - precision: 1.0000 - recall: 1.0000 - f1_score: 1.0000\n",
      "Epoch 3/100\n",
      "2/2 [==============================] - 0s 5ms/step - loss: 0.0897 - Accuracy: 1.0000 - precision: 1.0000 - recall: 1.0000 - f1_score: 1.0000\n",
      "Epoch 4/100\n",
      "2/2 [==============================] - 0s 6ms/step - loss: 0.0917 - Accuracy: 1.0000 - precision: 1.0000 - recall: 1.0000 - f1_score: 1.0000\n",
      "Epoch 5/100\n",
      "2/2 [==============================] - 0s 5ms/step - loss: 0.0943 - Accuracy: 0.9778 - precision: 0.9778 - recall: 0.9778 - f1_score: 0.9748\n",
      "Epoch 6/100\n",
      "2/2 [==============================] - 0s 5ms/step - loss: 0.0870 - Accuracy: 1.0000 - precision: 1.0000 - recall: 1.0000 - f1_score: 1.0000\n",
      "Epoch 7/100\n",
      "2/2 [==============================] - 0s 5ms/step - loss: 0.0891 - Accuracy: 0.9778 - precision: 0.9778 - recall: 0.9778 - f1_score: 0.9748\n",
      "Epoch 8/100\n",
      "2/2 [==============================] - 0s 5ms/step - loss: 0.0898 - Accuracy: 1.0000 - precision: 1.0000 - recall: 1.0000 - f1_score: 1.0000\n",
      "Epoch 9/100\n",
      "2/2 [==============================] - 0s 5ms/step - loss: 0.0892 - Accuracy: 0.9778 - precision: 0.9778 - recall: 0.9778 - f1_score: 0.9748\n",
      "Epoch 10/100\n",
      "2/2 [==============================] - 0s 5ms/step - loss: 0.0874 - Accuracy: 0.9778 - precision: 0.9778 - recall: 0.9778 - f1_score: 0.9748\n",
      "Epoch 11/100\n",
      "2/2 [==============================] - 0s 5ms/step - loss: 0.0858 - Accuracy: 1.0000 - precision: 1.0000 - recall: 1.0000 - f1_score: 1.0000\n",
      "Epoch 12/100\n",
      "2/2 [==============================] - 0s 5ms/step - loss: 0.0870 - Accuracy: 1.0000 - precision: 1.0000 - recall: 1.0000 - f1_score: 1.0000\n",
      "Epoch 13/100\n",
      "2/2 [==============================] - 0s 5ms/step - loss: 0.0878 - Accuracy: 0.9778 - precision: 0.9778 - recall: 0.9778 - f1_score: 0.9748\n",
      "Epoch 14/100\n",
      "2/2 [==============================] - 0s 5ms/step - loss: 0.0843 - Accuracy: 1.0000 - precision: 1.0000 - recall: 1.0000 - f1_score: 1.0000\n",
      "Epoch 15/100\n",
      "2/2 [==============================] - 0s 5ms/step - loss: 0.0853 - Accuracy: 0.9778 - precision: 0.9778 - recall: 0.9778 - f1_score: 0.9748\n",
      "Epoch 16/100\n",
      "2/2 [==============================] - 0s 5ms/step - loss: 0.0853 - Accuracy: 1.0000 - precision: 1.0000 - recall: 1.0000 - f1_score: 1.0000\n",
      "Epoch 17/100\n",
      "2/2 [==============================] - 0s 4ms/step - loss: 0.0839 - Accuracy: 1.0000 - precision: 1.0000 - recall: 1.0000 - f1_score: 1.0000\n",
      "Epoch 18/100\n",
      "2/2 [==============================] - 0s 5ms/step - loss: 0.0847 - Accuracy: 1.0000 - precision: 1.0000 - recall: 1.0000 - f1_score: 1.0000\n",
      "Epoch 19/100\n",
      "2/2 [==============================] - 0s 4ms/step - loss: 0.0847 - Accuracy: 0.9778 - precision: 0.9778 - recall: 0.9778 - f1_score: 0.9748\n",
      "Epoch 20/100\n",
      "2/2 [==============================] - 0s 6ms/step - loss: 0.0834 - Accuracy: 1.0000 - precision: 1.0000 - recall: 1.0000 - f1_score: 1.0000\n",
      "Epoch 21/100\n",
      "2/2 [==============================] - 0s 6ms/step - loss: 0.0827 - Accuracy: 1.0000 - precision: 1.0000 - recall: 1.0000 - f1_score: 1.0000\n",
      "Epoch 22/100\n",
      "2/2 [==============================] - 0s 5ms/step - loss: 0.0833 - Accuracy: 1.0000 - precision: 1.0000 - recall: 1.0000 - f1_score: 1.0000\n",
      "Epoch 23/100\n",
      "2/2 [==============================] - 0s 5ms/step - loss: 0.0835 - Accuracy: 1.0000 - precision: 1.0000 - recall: 0.9778 - f1_score: 1.0000\n",
      "Epoch 24/100\n",
      "2/2 [==============================] - 0s 5ms/step - loss: 0.0845 - Accuracy: 1.0000 - precision: 1.0000 - recall: 1.0000 - f1_score: 1.0000\n",
      "Epoch 25/100\n",
      "2/2 [==============================] - 0s 5ms/step - loss: 0.0825 - Accuracy: 0.9778 - precision: 0.9778 - recall: 0.9778 - f1_score: 0.9748\n",
      "Epoch 26/100\n",
      "2/2 [==============================] - 0s 5ms/step - loss: 0.0805 - Accuracy: 1.0000 - precision: 1.0000 - recall: 1.0000 - f1_score: 1.0000\n",
      "Epoch 27/100\n",
      "2/2 [==============================] - 0s 5ms/step - loss: 0.0798 - Accuracy: 1.0000 - precision: 1.0000 - recall: 1.0000 - f1_score: 1.0000\n",
      "Epoch 28/100\n",
      "2/2 [==============================] - 0s 5ms/step - loss: 0.0795 - Accuracy: 1.0000 - precision: 1.0000 - recall: 1.0000 - f1_score: 1.0000\n",
      "Epoch 29/100\n",
      "2/2 [==============================] - 0s 5ms/step - loss: 0.0823 - Accuracy: 1.0000 - precision: 1.0000 - recall: 1.0000 - f1_score: 1.0000\n",
      "Epoch 30/100\n",
      "2/2 [==============================] - 0s 6ms/step - loss: 0.0873 - Accuracy: 1.0000 - precision: 1.0000 - recall: 1.0000 - f1_score: 1.0000\n",
      "Epoch 31/100\n",
      "2/2 [==============================] - 0s 6ms/step - loss: 0.0847 - Accuracy: 1.0000 - precision: 1.0000 - recall: 1.0000 - f1_score: 1.0000\n",
      "Epoch 32/100\n",
      "2/2 [==============================] - 0s 5ms/step - loss: 0.0900 - Accuracy: 0.9778 - precision: 0.9778 - recall: 0.9778 - f1_score: 0.9748\n",
      "Epoch 33/100\n",
      "2/2 [==============================] - 0s 6ms/step - loss: 0.0819 - Accuracy: 0.9778 - precision: 0.9778 - recall: 0.9778 - f1_score: 0.9748\n",
      "Epoch 34/100\n",
      "2/2 [==============================] - 0s 5ms/step - loss: 0.0831 - Accuracy: 0.9778 - precision: 0.9778 - recall: 0.9778 - f1_score: 0.9748\n",
      "Epoch 35/100\n",
      "2/2 [==============================] - 0s 6ms/step - loss: 0.0809 - Accuracy: 0.9778 - precision: 0.9778 - recall: 0.9778 - f1_score: 0.9748\n",
      "Epoch 36/100\n",
      "2/2 [==============================] - 0s 5ms/step - loss: 0.0782 - Accuracy: 1.0000 - precision: 1.0000 - recall: 1.0000 - f1_score: 1.0000\n",
      "Epoch 37/100\n",
      "2/2 [==============================] - 0s 6ms/step - loss: 0.0770 - Accuracy: 1.0000 - precision: 1.0000 - recall: 1.0000 - f1_score: 1.0000\n",
      "Epoch 38/100\n",
      "2/2 [==============================] - 0s 5ms/step - loss: 0.0772 - Accuracy: 1.0000 - precision: 1.0000 - recall: 1.0000 - f1_score: 1.0000\n",
      "Epoch 39/100\n",
      "2/2 [==============================] - 0s 5ms/step - loss: 0.0777 - Accuracy: 1.0000 - precision: 1.0000 - recall: 1.0000 - f1_score: 1.0000\n",
      "Epoch 40/100\n",
      "2/2 [==============================] - 0s 5ms/step - loss: 0.0768 - Accuracy: 1.0000 - precision: 1.0000 - recall: 1.0000 - f1_score: 1.0000\n",
      "Epoch 41/100\n",
      "2/2 [==============================] - 0s 6ms/step - loss: 0.0763 - Accuracy: 1.0000 - precision: 1.0000 - recall: 1.0000 - f1_score: 1.0000\n",
      "Epoch 42/100\n",
      "2/2 [==============================] - 0s 5ms/step - loss: 0.0762 - Accuracy: 1.0000 - precision: 1.0000 - recall: 0.9778 - f1_score: 1.0000\n",
      "Epoch 43/100\n",
      "2/2 [==============================] - 0s 5ms/step - loss: 0.0782 - Accuracy: 1.0000 - precision: 1.0000 - recall: 1.0000 - f1_score: 1.0000\n",
      "Epoch 44/100\n",
      "2/2 [==============================] - 0s 6ms/step - loss: 0.0764 - Accuracy: 1.0000 - precision: 1.0000 - recall: 1.0000 - f1_score: 1.0000\n",
      "Epoch 45/100\n",
      "2/2 [==============================] - 0s 4ms/step - loss: 0.0745 - Accuracy: 1.0000 - precision: 1.0000 - recall: 1.0000 - f1_score: 1.0000\n",
      "Epoch 46/100\n",
      "2/2 [==============================] - 0s 4ms/step - loss: 0.0754 - Accuracy: 1.0000 - precision: 1.0000 - recall: 1.0000 - f1_score: 1.0000\n",
      "Epoch 47/100\n",
      "2/2 [==============================] - 0s 5ms/step - loss: 0.0756 - Accuracy: 1.0000 - precision: 1.0000 - recall: 1.0000 - f1_score: 1.0000\n",
      "Epoch 48/100\n",
      "2/2 [==============================] - 0s 5ms/step - loss: 0.0753 - Accuracy: 1.0000 - precision: 1.0000 - recall: 1.0000 - f1_score: 1.0000\n",
      "Epoch 49/100\n",
      "2/2 [==============================] - 0s 5ms/step - loss: 0.0824 - Accuracy: 1.0000 - precision: 1.0000 - recall: 1.0000 - f1_score: 1.0000\n",
      "Epoch 50/100\n",
      "2/2 [==============================] - 0s 6ms/step - loss: 0.0804 - Accuracy: 1.0000 - precision: 1.0000 - recall: 1.0000 - f1_score: 1.0000\n",
      "Epoch 51/100\n",
      "2/2 [==============================] - 0s 6ms/step - loss: 0.0798 - Accuracy: 0.9778 - precision: 0.9778 - recall: 0.9778 - f1_score: 0.9748\n",
      "Epoch 52/100\n",
      "2/2 [==============================] - 0s 6ms/step - loss: 0.0745 - Accuracy: 1.0000 - precision: 1.0000 - recall: 1.0000 - f1_score: 1.0000\n",
      "Epoch 53/100\n",
      "2/2 [==============================] - 0s 5ms/step - loss: 0.0734 - Accuracy: 1.0000 - precision: 1.0000 - recall: 1.0000 - f1_score: 1.0000\n",
      "Epoch 54/100\n",
      "2/2 [==============================] - 0s 6ms/step - loss: 0.0751 - Accuracy: 1.0000 - precision: 1.0000 - recall: 1.0000 - f1_score: 1.0000\n",
      "Epoch 55/100\n",
      "2/2 [==============================] - 0s 5ms/step - loss: 0.0781 - Accuracy: 1.0000 - precision: 1.0000 - recall: 1.0000 - f1_score: 1.0000\n",
      "Epoch 56/100\n",
      "2/2 [==============================] - 0s 6ms/step - loss: 0.0734 - Accuracy: 1.0000 - precision: 1.0000 - recall: 1.0000 - f1_score: 1.0000\n",
      "Epoch 57/100\n",
      "2/2 [==============================] - 0s 5ms/step - loss: 0.0715 - Accuracy: 1.0000 - precision: 1.0000 - recall: 1.0000 - f1_score: 1.0000\n",
      "Epoch 58/100\n",
      "2/2 [==============================] - 0s 5ms/step - loss: 0.0712 - Accuracy: 1.0000 - precision: 1.0000 - recall: 1.0000 - f1_score: 1.0000\n",
      "Epoch 59/100\n",
      "2/2 [==============================] - 0s 4ms/step - loss: 0.0710 - Accuracy: 1.0000 - precision: 1.0000 - recall: 1.0000 - f1_score: 1.0000\n",
      "Epoch 60/100\n",
      "2/2 [==============================] - 0s 5ms/step - loss: 0.0714 - Accuracy: 1.0000 - precision: 1.0000 - recall: 1.0000 - f1_score: 1.0000\n",
      "Epoch 61/100\n",
      "2/2 [==============================] - 0s 5ms/step - loss: 0.0714 - Accuracy: 1.0000 - precision: 1.0000 - recall: 1.0000 - f1_score: 1.0000\n",
      "Epoch 62/100\n",
      "2/2 [==============================] - 0s 5ms/step - loss: 0.0695 - Accuracy: 1.0000 - precision: 1.0000 - recall: 1.0000 - f1_score: 1.0000\n",
      "Epoch 63/100\n",
      "2/2 [==============================] - 0s 6ms/step - loss: 0.0708 - Accuracy: 1.0000 - precision: 1.0000 - recall: 1.0000 - f1_score: 1.0000\n",
      "Epoch 64/100\n",
      "2/2 [==============================] - 0s 5ms/step - loss: 0.0708 - Accuracy: 1.0000 - precision: 1.0000 - recall: 1.0000 - f1_score: 1.0000\n",
      "Epoch 65/100\n",
      "2/2 [==============================] - 0s 5ms/step - loss: 0.0690 - Accuracy: 1.0000 - precision: 1.0000 - recall: 1.0000 - f1_score: 1.0000\n",
      "Epoch 66/100\n",
      "2/2 [==============================] - 0s 5ms/step - loss: 0.0690 - Accuracy: 1.0000 - precision: 1.0000 - recall: 1.0000 - f1_score: 1.0000\n",
      "Epoch 67/100\n",
      "2/2 [==============================] - 0s 5ms/step - loss: 0.0694 - Accuracy: 1.0000 - precision: 1.0000 - recall: 1.0000 - f1_score: 1.0000\n",
      "Epoch 68/100\n",
      "2/2 [==============================] - 0s 6ms/step - loss: 0.0683 - Accuracy: 1.0000 - precision: 1.0000 - recall: 1.0000 - f1_score: 1.0000\n",
      "Epoch 69/100\n",
      "2/2 [==============================] - 0s 5ms/step - loss: 0.0686 - Accuracy: 1.0000 - precision: 1.0000 - recall: 1.0000 - f1_score: 1.0000\n",
      "Epoch 70/100\n",
      "2/2 [==============================] - 0s 6ms/step - loss: 0.0699 - Accuracy: 1.0000 - precision: 1.0000 - recall: 1.0000 - f1_score: 1.0000\n",
      "Epoch 71/100\n",
      "2/2 [==============================] - 0s 7ms/step - loss: 0.0686 - Accuracy: 1.0000 - precision: 1.0000 - recall: 1.0000 - f1_score: 1.0000\n",
      "Epoch 72/100\n",
      "2/2 [==============================] - 0s 8ms/step - loss: 0.0679 - Accuracy: 1.0000 - precision: 1.0000 - recall: 1.0000 - f1_score: 1.0000\n",
      "Epoch 73/100\n",
      "2/2 [==============================] - 0s 7ms/step - loss: 0.0669 - Accuracy: 1.0000 - precision: 1.0000 - recall: 1.0000 - f1_score: 1.0000\n",
      "Epoch 74/100\n",
      "2/2 [==============================] - 0s 7ms/step - loss: 0.0666 - Accuracy: 1.0000 - precision: 1.0000 - recall: 1.0000 - f1_score: 1.0000\n",
      "Epoch 75/100\n",
      "2/2 [==============================] - 0s 6ms/step - loss: 0.0693 - Accuracy: 1.0000 - precision: 1.0000 - recall: 1.0000 - f1_score: 1.0000\n",
      "Epoch 76/100\n",
      "2/2 [==============================] - 0s 6ms/step - loss: 0.0713 - Accuracy: 0.9778 - precision: 0.9778 - recall: 0.9778 - f1_score: 0.9748\n",
      "Epoch 77/100\n",
      "2/2 [==============================] - 0s 5ms/step - loss: 0.0661 - Accuracy: 1.0000 - precision: 1.0000 - recall: 1.0000 - f1_score: 1.0000\n",
      "Epoch 78/100\n",
      "2/2 [==============================] - 0s 5ms/step - loss: 0.0658 - Accuracy: 1.0000 - precision: 1.0000 - recall: 1.0000 - f1_score: 1.0000\n",
      "Epoch 79/100\n",
      "2/2 [==============================] - 0s 5ms/step - loss: 0.0653 - Accuracy: 1.0000 - precision: 1.0000 - recall: 1.0000 - f1_score: 1.0000\n",
      "Epoch 80/100\n",
      "2/2 [==============================] - 0s 5ms/step - loss: 0.0652 - Accuracy: 1.0000 - precision: 1.0000 - recall: 1.0000 - f1_score: 1.0000\n",
      "Epoch 81/100\n",
      "2/2 [==============================] - 0s 6ms/step - loss: 0.0738 - Accuracy: 1.0000 - precision: 1.0000 - recall: 1.0000 - f1_score: 1.0000\n",
      "Epoch 82/100\n",
      "2/2 [==============================] - 0s 5ms/step - loss: 0.0854 - Accuracy: 0.9778 - precision: 0.9778 - recall: 0.9778 - f1_score: 0.9748\n",
      "Epoch 83/100\n",
      "2/2 [==============================] - 0s 6ms/step - loss: 0.0690 - Accuracy: 0.9778 - precision: 0.9778 - recall: 0.9778 - f1_score: 0.9748\n",
      "Epoch 84/100\n",
      "2/2 [==============================] - 0s 5ms/step - loss: 0.0697 - Accuracy: 1.0000 - precision: 1.0000 - recall: 1.0000 - f1_score: 1.0000\n",
      "Epoch 85/100\n",
      "2/2 [==============================] - 0s 4ms/step - loss: 0.0652 - Accuracy: 1.0000 - precision: 1.0000 - recall: 1.0000 - f1_score: 1.0000\n",
      "Epoch 86/100\n",
      "2/2 [==============================] - 0s 5ms/step - loss: 0.0650 - Accuracy: 1.0000 - precision: 1.0000 - recall: 1.0000 - f1_score: 1.0000\n",
      "Epoch 87/100\n",
      "2/2 [==============================] - 0s 5ms/step - loss: 0.0641 - Accuracy: 1.0000 - precision: 1.0000 - recall: 1.0000 - f1_score: 1.0000\n",
      "Epoch 88/100\n",
      "2/2 [==============================] - 0s 5ms/step - loss: 0.0633 - Accuracy: 1.0000 - precision: 1.0000 - recall: 1.0000 - f1_score: 1.0000\n",
      "Epoch 89/100\n",
      "2/2 [==============================] - 0s 5ms/step - loss: 0.0682 - Accuracy: 1.0000 - precision: 1.0000 - recall: 1.0000 - f1_score: 1.0000\n",
      "Epoch 90/100\n",
      "2/2 [==============================] - 0s 5ms/step - loss: 0.0718 - Accuracy: 0.9778 - precision: 0.9778 - recall: 0.9778 - f1_score: 0.9748\n",
      "Epoch 91/100\n",
      "2/2 [==============================] - 0s 5ms/step - loss: 0.0675 - Accuracy: 1.0000 - precision: 1.0000 - recall: 1.0000 - f1_score: 1.0000\n",
      "Epoch 92/100\n",
      "2/2 [==============================] - 0s 5ms/step - loss: 0.0661 - Accuracy: 0.9778 - precision: 0.9778 - recall: 0.9778 - f1_score: 0.9748\n",
      "Epoch 93/100\n",
      "2/2 [==============================] - 0s 5ms/step - loss: 0.0695 - Accuracy: 1.0000 - precision: 1.0000 - recall: 1.0000 - f1_score: 1.0000\n",
      "Epoch 94/100\n",
      "2/2 [==============================] - 0s 4ms/step - loss: 0.0730 - Accuracy: 1.0000 - precision: 1.0000 - recall: 1.0000 - f1_score: 1.0000\n",
      "Epoch 95/100\n",
      "2/2 [==============================] - 0s 5ms/step - loss: 0.0623 - Accuracy: 1.0000 - precision: 1.0000 - recall: 1.0000 - f1_score: 1.0000\n",
      "Epoch 96/100\n",
      "2/2 [==============================] - 0s 4ms/step - loss: 0.0624 - Accuracy: 1.0000 - precision: 1.0000 - recall: 1.0000 - f1_score: 1.0000\n",
      "Epoch 97/100\n",
      "2/2 [==============================] - 0s 4ms/step - loss: 0.0619 - Accuracy: 1.0000 - precision: 1.0000 - recall: 1.0000 - f1_score: 1.0000\n",
      "Epoch 98/100\n",
      "2/2 [==============================] - 0s 5ms/step - loss: 0.0634 - Accuracy: 1.0000 - precision: 1.0000 - recall: 1.0000 - f1_score: 1.0000\n",
      "Epoch 99/100\n",
      "2/2 [==============================] - 0s 5ms/step - loss: 0.0652 - Accuracy: 1.0000 - precision: 1.0000 - recall: 1.0000 - f1_score: 1.0000\n",
      "Epoch 100/100\n",
      "2/2 [==============================] - 0s 6ms/step - loss: 0.0622 - Accuracy: 1.0000 - precision: 1.0000 - recall: 1.0000 - f1_score: 1.0000\n",
      "4/4 - 0s - loss: 0.1394 - Accuracy: 0.9619 - precision: 0.9615 - recall: 0.9524 - f1_score: 0.9635 - 225ms/epoch - 56ms/step\n"
     ]
    },
    {
     "data": {
      "text/plain": [
       "[0.13941672444343567,\n",
       " 0.961904764175415,\n",
       " 0.9615384340286255,\n",
       " 0.9523809552192688,\n",
       " array([1.       , 0.9444445, 0.945946 ], dtype=float32)]"
      ]
     },
     "execution_count": 33,
     "metadata": {},
     "output_type": "execute_result"
    }
   ],
   "source": [
    "model.fit(x_train, y_train, epochs=100, batch_size=32, verbose=1)\n",
    "model.evaluate(x_test,  y_test, verbose=2)"
   ]
  },
  {
   "cell_type": "code",
   "execution_count": 35,
   "metadata": {},
   "outputs": [
    {
     "name": "stdout",
     "output_type": "stream",
     "text": [
      "1/4 [======>.......................] - ETA: 0s"
     ]
    },
    {
     "name": "stdout",
     "output_type": "stream",
     "text": [
      "4/4 [==============================] - 0s 1ms/step\n",
      "Acurácia obtida: 96.19%\n",
      "Precisão obtida: 96.58%\n",
      "Recall obtido: 96.19%\n",
      "F1 Score obtida: 96.19%\n"
     ]
    }
   ],
   "source": [
    "predictions = model.predict(x_test)\n",
    "predictions = [list(p).index(max(p)) for p in predictions]\n",
    "#print(predictions)\n",
    "#predictions = to_categorical(predictions) \n",
    "#print(y_true)\n",
    "\n",
    "print(f'Acurácia obtida: {accuracy_score(y_true, predictions) * 100:.2f}%')\n",
    "print(f'Precisão obtida: {precision_score(y_true, predictions, average=\"weighted\") * 100:.2f}%')\n",
    "print(f'Recall obtido: {recall_score(y_true, predictions, average=\"weighted\") * 100:.2f}%')\n",
    "print(f'F1 Score obtida: {f1_score(y_true, predictions, average=\"weighted\") * 100:.2f}%')\n"
   ]
  }
 ],
 "metadata": {
  "kernelspec": {
   "display_name": "Python 3",
   "language": "python",
   "name": "python3"
  },
  "language_info": {
   "codemirror_mode": {
    "name": "ipython",
    "version": 3
   },
   "file_extension": ".py",
   "mimetype": "text/x-python",
   "name": "python",
   "nbconvert_exporter": "python",
   "pygments_lexer": "ipython3",
   "version": "3.11.5"
  }
 },
 "nbformat": 4,
 "nbformat_minor": 2
}
